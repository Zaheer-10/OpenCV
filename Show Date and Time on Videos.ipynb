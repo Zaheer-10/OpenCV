{
 "cells": [
  {
   "cell_type": "markdown",
   "id": "8a568b34",
   "metadata": {},
   "source": [
    "# Show Date and Time on Videos"
   ]
  },
  {
   "cell_type": "markdown",
   "id": "2208a01f",
   "metadata": {},
   "source": [
    "OpenCV is a popular library for computer vision and image processing. \n",
    "\n",
    "It can be used to perform various operations on images and videos, such as face detection, object recognition, edge detection, etc. \n",
    "\n",
    "One of the common tasks that we may want to do with OpenCV is to display the date and time on videos, either from a live feed or from a file. \n",
    "This can be useful for various purposes, such as analyzing events, recording evidence, or adding annotations."
   ]
  },
  {
   "cell_type": "markdown",
   "id": "48b6560f",
   "metadata": {},
   "source": [
    "### Steps to Display Date and Time on Videos"
   ]
  },
  {
   "cell_type": "markdown",
   "id": "99d2750a",
   "metadata": {},
   "source": [
    "#### 1. Import the cv2 and datetime modules.\n",
    "#### 2. Create a VideoCapture object to read frames from the video source. This can be either a camera device (such as 0 or 1) or a video file name (such as 'sample.mp4').\n",
    "#### 3. Loop over the frames until the video ends or the user presses a key (such as 'q' or Esc).\n",
    "#### 4. For each frame, get the current date and time using datetime.datetime.now(). This returns a datetime object that contains the year, month, day, hour, minute, second, and microsecond.\n",
    "#### 5. Convert the datetime object to a string using str() or strftime(). This allows us to format the date and time in any way we want. For example, we can use '%Y-%m-%d %H:%M:%S' to get '2023-07-14 15:20:58'.\n",
    "#### 6. Use cv2.putText() to draw the date and time string on the frame. This function takes several arguments, such as the frame, the text, the position, the font, the size, the color, the thickness, and the line type.\n",
    "#### 7. Display the frame using cv2.imshow(). This function takes two arguments: a window name and a frame.\n",
    "#### 8. Wait for a key press using cv2.waitKey(). This function takes one argument: a delay in milliseconds. If we pass 0 or a negative value, it waits indefinitely until a key is pressed. If we pass a positive value (such as 1), it waits for that amount of time and returns -1 if no key is pressed.\n",
    "#### 9. Check if the key is 'q' or Esc using ord() and chr(). These functions convert between ASCII codes and characters. If so, break out of the loop.\n",
    "#### 10. Release the VideoCapture object using release(). This frees up any resources associated with it.\n",
    "#### 11. Destroy all windows using cv2.destroyAllWindows(). This closes any windows opened by OpenCV."
   ]
  },
  {
   "cell_type": "code",
   "execution_count": 9,
   "id": "69653525",
   "metadata": {},
   "outputs": [],
   "source": [
    "import cv2 \n",
    "import datetime\n",
    "\n",
    "cap = cv2.VideoCapture(0)\n",
    "\n",
    "while (cap.isOpened()):\n",
    "    ret , frame = cap.read()\n",
    "    \n",
    "    if ret == True : \n",
    "        \n",
    "        font = cv2.FONT_HERSHEY_SIMPLEX\n",
    "        text = str(datetime.datetime.now())\n",
    "        frame = cv2.putText(frame , text , (10,50) , font , 1 , (0,255,255) , 2,cv2.LINE_8)\n",
    "        \n",
    "        cv2.imshow(\"Frames\" , frame)\n",
    "        \n",
    "        if cv2.waitKey(1) == ord('q'):\n",
    "            break\n",
    "    else:\n",
    "        break\n",
    "        \n",
    "cap.release()\n",
    "cv2.destroyAllWindows()\n",
    "\n"
   ]
  },
  {
   "cell_type": "markdown",
   "id": "93510e8b",
   "metadata": {},
   "source": [
    "# 2"
   ]
  },
  {
   "cell_type": "code",
   "execution_count": null,
   "id": "c6229f75",
   "metadata": {},
   "outputs": [],
   "source": [
    "import cv2 \n",
    "\n",
    "cap = cv2.VideoCapture(0)\n",
    "cap.set(3, 700)\n",
    "cap.set(4 , 700)\n",
    "wdth = cap.get(3)\n",
    "hyt = cap.get(4)\n",
    "\n",
    "while (cap.isOpened()):\n",
    "    ret , frame = cap.read()\n",
    "    \n",
    "    if ret == True : \n",
    "        \n",
    "        font = cv2.FONT_HERSHEY_SIMPLEX\n",
    "        text = 'Width : '+ str(wdth) + ' Height : '+ str(hyt)\n",
    "        frame = cv2.putText(frame , text , (10,50) , font , 1 , (0,255,255) , 2,cv2.LINE_8)\n",
    "        \n",
    "        cv2.imshow(\"Frames\" , frame)\n",
    "        \n",
    "        if cv2.waitKey(1) == ord('q'):\n",
    "            break\n",
    "    else:\n",
    "        break\n",
    "        \n",
    "cap.release()\n",
    "cv2.destroyAllWindows()\n",
    "\n"
   ]
  },
  {
   "cell_type": "markdown",
   "id": "0ce56130",
   "metadata": {},
   "source": [
    "# 3"
   ]
  },
  {
   "cell_type": "code",
   "execution_count": 10,
   "id": "c59975d2",
   "metadata": {},
   "outputs": [],
   "source": [
    "import cv2\n",
    "import datetime\n",
    "\n",
    "# Create a VideoCapture object\n",
    "cap = cv2.VideoCapture(0)\n",
    "\n",
    "# Loop over the frames\n",
    "while True:\n",
    "    # Read a frame\n",
    "    ret, frame = cap.read()\n",
    "\n",
    "    # Check if frame is valid\n",
    "    if ret:\n",
    "        # Get current date and time\n",
    "        dt = datetime.datetime.now()\n",
    "\n",
    "        # Convert datetime to string\n",
    "        dt_str = dt.strftime('%Y-%m-%d %H:%M:%S')\n",
    "\n",
    "        # Draw date and time on frame\n",
    "        font = cv2.FONT_HERSHEY_SIMPLEX\n",
    "        cv2.putText(frame, dt_str, (10, 30), font, 1, (0, 255, 0), 2)\n",
    "\n",
    "        # Display frame\n",
    "        cv2.imshow('Video', frame)\n",
    "\n",
    "        # Wait for a key press\n",
    "        key = cv2.waitKey(1)\n",
    "\n",
    "        # Check if key is 'q' or Esc\n",
    "        if key == ord('q') or key == 27:\n",
    "            break\n",
    "    else:\n",
    "        break\n",
    "\n",
    "# Release VideoCapture object\n",
    "cap.release()\n",
    "\n",
    "# Destroy all windows\n",
    "cv2.destroyAllWindows()\n"
   ]
  }
 ],
 "metadata": {
  "kernelspec": {
   "display_name": "Python 3 (ipykernel)",
   "language": "python",
   "name": "python3"
  },
  "language_info": {
   "codemirror_mode": {
    "name": "ipython",
    "version": 3
   },
   "file_extension": ".py",
   "mimetype": "text/x-python",
   "name": "python",
   "nbconvert_exporter": "python",
   "pygments_lexer": "ipython3",
   "version": "3.9.13"
  }
 },
 "nbformat": 4,
 "nbformat_minor": 5
}
