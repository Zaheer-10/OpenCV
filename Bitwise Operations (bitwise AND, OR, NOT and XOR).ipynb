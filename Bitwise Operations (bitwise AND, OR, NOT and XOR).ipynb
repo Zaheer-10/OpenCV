{
 "cells": [
  {
   "cell_type": "markdown",
   "id": "27e98fe9",
   "metadata": {},
   "source": [
    "# Bitwise Operations (bitwise AND, OR, NOT and XOR)"
   ]
  },
  {
   "cell_type": "markdown",
   "id": "37619e3c",
   "metadata": {},
   "source": [
    "## The four basic bitwise operations in OpenCV are:"
   ]
  },
  {
   "cell_type": "markdown",
   "id": "d38080d8",
   "metadata": {},
   "source": [
    "### 1. bitwise AND: \n",
    "    This operation performs a logical AND between two images or an image and a scalar. The result is an image where each pixel is the bitwise AND of the corresponding pixels of the input images or the scalar. The output pixel is 1 (or 255) only if both input pixels are 1 (or 255), otherwise it is 0"
   ]
  },
  {
   "cell_type": "markdown",
   "id": "67ee8dfa",
   "metadata": {},
   "source": [
    "### 2. bitwise OR: \n",
    "    This operation performs a logical OR between two images or an image and a scalar. The result is an image where each pixel is the bitwise OR of the corresponding pixels of the input images or the scalar. The output pixel is 1 (or 255) if either input pixel is 1 (or 255), otherwise it is 0"
   ]
  },
  {
   "cell_type": "markdown",
   "id": "b90c66c8",
   "metadata": {},
   "source": [
    "### 3. bitwise XOR: \n",
    "    This operation performs a logical XOR (exclusive OR) between two images or an image and a scalar. The result is an image where each pixel is the bitwise XOR of the corresponding pixels of the input images or the scalar. The output pixel is 1 (or 255) if only one input pixel is 1 (or 255), otherwise it is 0"
   ]
  },
  {
   "cell_type": "markdown",
   "id": "0a1249ee",
   "metadata": {},
   "source": [
    "### 4. bitwise NOT:\n",
    "    This operation performs a logical NOT on an image or a scalar. The result is an image where each pixel is the bitwise NOT of the corresponding pixel of the input image or the scalar. The output pixel is 1 (or 255) if the input pixel is 0, otherwise it is 0"
   ]
  },
  {
   "cell_type": "markdown",
   "id": "31013722",
   "metadata": {},
   "source": [
    "## To use these bitwise operations in OpenCV python, we can use the following functions:"
   ]
  },
  {
   "cell_type": "markdown",
   "id": "7307e92d",
   "metadata": {},
   "source": [
    "#### cv.bitwise_and: \n",
    "    This function takes two images or an image and a scalar as inputs and returns the bitwise AND of them as an output245. For example, to perform bitwise AND on two images img1 and img2, we can do:"
   ]
  },
  {
   "cell_type": "code",
   "execution_count": 18,
   "id": "c4cceb59",
   "metadata": {},
   "outputs": [],
   "source": [
    "import cv2 as cv \n",
    "import numpy as np \n",
    "\n",
    "img1 = cv2.imread('Images/sample1.jpg')\n",
    "img2 = cv2.imread('Images/sample2.png')\n",
    "\n",
    "img1 = cv2.resize(img1,(990,600))\n",
    "img2 = cv2.resize(img2,(990,600))"
   ]
  },
  {
   "cell_type": "markdown",
   "id": "d5c6d8a0",
   "metadata": {},
   "source": [
    "#### Perform bitwise AND on img1 and img2"
   ]
  },
  {
   "cell_type": "code",
   "execution_count": 19,
   "id": "01a601d4",
   "metadata": {},
   "outputs": [],
   "source": [
    "\n",
    "img_and = cv.bitwise_and(img1, img2)\n",
    "\n",
    "# Display the result\n",
    "cv.imshow('Bitwise AND', img_and)\n",
    "cv.waitKey(0)\n",
    "cv.destroyAllWindows()\n"
   ]
  },
  {
   "cell_type": "markdown",
   "id": "6c75537d",
   "metadata": {},
   "source": [
    "This will display an image that shows only the common regions of img1 and img2 where both pixels are non-zero."
   ]
  },
  {
   "cell_type": "markdown",
   "id": "ed13f0db",
   "metadata": {},
   "source": [
    "### cv.bitwise_or: \n",
    "    This function takes two images or an image and a scalar as inputs and returns the bitwise OR of them as an output245. For example, to perform bitwise OR on two images img1 and img2, we can do:"
   ]
  },
  {
   "cell_type": "code",
   "execution_count": 25,
   "id": "6b870e78",
   "metadata": {},
   "outputs": [],
   "source": [
    "# Perform bitwise OR on img1 and img2\n",
    "img_or = cv.bitwise_or(img1, img2)\n",
    "\n",
    "# Display the result\n",
    "cv.imshow('Bitwise OR', img_or)\n",
    "cv.waitKey(0)\n",
    "cv.destroyAllWindows()\n"
   ]
  },
  {
   "cell_type": "markdown",
   "id": "390e2164",
   "metadata": {},
   "source": [
    "This will display an image that shows both regions of img1 and img2 where either pixel is non-zero."
   ]
  },
  {
   "cell_type": "markdown",
   "id": "faebe167",
   "metadata": {},
   "source": [
    "### cv.bitwise_xor: \n",
    "    This function takes two images or an image and a scalar as inputs and returns the bitwise XOR of them as an output. For example, to perform bitwise XOR on two images img1 and img2, we can do:"
   ]
  },
  {
   "cell_type": "code",
   "execution_count": 28,
   "id": "3b36341d",
   "metadata": {},
   "outputs": [],
   "source": [
    "# Perform bitwise XOR on img1 and img2\n",
    "img_xor = cv.bitwise_xor(img1, img2)\n",
    "\n",
    "# Display the result\n",
    "cv.imshow('Bitwise XOR', img_xor)\n",
    "cv.waitKey(0)\n",
    "cv.destroyAllWindows()\n"
   ]
  },
  {
   "cell_type": "markdown",
   "id": "49a18200",
   "metadata": {},
   "source": [
    "This will display an image that shows only the regions of img1 and img2 where only one pixel is non-zero."
   ]
  },
  {
   "cell_type": "markdown",
   "id": "f479b810",
   "metadata": {},
   "source": [
    "### cv.bitwise_not: \n",
    "    This function takes an image or a scalar as input and returns the bitwise NOT of it as an output. For example, to perform bitwise NOT on an image img1, we can do:"
   ]
  },
  {
   "cell_type": "code",
   "execution_count": 32,
   "id": "33c5b03c",
   "metadata": {},
   "outputs": [],
   "source": [
    "# Perform bitwise NOT on img1\n",
    "img_not = cv.bitwise_not(img1)\n",
    "\n",
    "# Display the result\n",
    "cv.imshow('Bitwise NOT', img_not)\n",
    "cv.waitKey(0)\n",
    "cv.destroyAllWindows()\n"
   ]
  },
  {
   "cell_type": "markdown",
   "id": "6c8d48f8",
   "metadata": {},
   "source": [
    "This will display an image that shows the inverse of img1, where each pixel is flipped from 0 to 255 or vice versa."
   ]
  },
  {
   "cell_type": "markdown",
   "id": "aa338370",
   "metadata": {},
   "source": [
    "**We can also use bitwise operations to create masks and apply them to images. A mask is a binary image that defines which pixels of an image should be kept or discarded. We can use the `cv.bitwise_and` function to apply a mask to an image and extract only the region of interest.**\n",
    "- For example, to extract a circular region from an image img1, we can do:"
   ]
  },
  {
   "cell_type": "code",
   "execution_count": 35,
   "id": "b672545a",
   "metadata": {},
   "outputs": [],
   "source": [
    "# Create a black image of the same size and type as img1\n",
    "mask = np.zeros_like(img1)\n",
    "\n",
    "# Draw a white circle on the mask\n",
    "cv.circle(mask, (100, 100), 50, (255, 255, 255), -1)\n",
    "\n",
    "# Perform bitwise AND on img1 and mask\n",
    "img_masked = cv.bitwise_and(img1, mask)\n",
    "\n",
    "# Display the result\n",
    "cv.imshow('Masked Image', img_masked)\n",
    "cv.waitKey(0)\n",
    "cv.destroyAllWindows()\n"
   ]
  },
  {
   "cell_type": "markdown",
   "id": "924565c8",
   "metadata": {},
   "source": [
    "This will display an image that shows only the circular region of img1 where the mask is white."
   ]
  },
  {
   "cell_type": "markdown",
   "id": "23925c0a",
   "metadata": {},
   "source": [
    "#### We can also use bitwise operations to blend two images with different shapes or sizes. \n",
    "\n",
    "- For example, to put a logo image on top of another image, we can do:"
   ]
  },
  {
   "cell_type": "code",
   "execution_count": 39,
   "id": "7df958e8",
   "metadata": {},
   "outputs": [],
   "source": [
    "img1 = cv2.imread('Images/sample1.jpg')\n",
    "img2 = cv2.imread('Images/sample2.png')\n",
    "\n",
    "# Resize img2 to fit the top-left corner of img1\n",
    "img2 = cv.resize(img2, (100, 100))\n",
    "\n",
    "# Create a mask of img2 and its inverse mask\n",
    "img2gray = cv.cvtColor(img2, cv.COLOR_BGR2GRAY)\n",
    "ret, mask = cv.threshold(img2gray, 10, 255, cv.THRESH_BINARY)\n",
    "mask_inv = cv.bitwise_not(mask)\n",
    "\n",
    "# Extract the ROI of img1 where the logo will be placed\n",
    "rows, cols, channels = img2.shape\n",
    "roi = img1[0:rows, 0:cols]\n",
    "\n",
    "# Remove the logo area from the ROI using bitwise AND and inverse mask\n",
    "roi_bg = cv.bitwise_and(roi, roi, mask=mask_inv)\n",
    "\n",
    "# Extract the logo area from img2 using bitwise AND and mask\n",
    "img2_fg = cv.bitwise_and(img2, img2, mask=mask)\n",
    "\n",
    "# Add the logo area to the ROI using bitwise OR\n",
    "dst = cv.bitwise_or(roi_bg, img2_fg)\n",
    "\n",
    "# Replace the ROI of img1 with the blended ROI\n",
    "img1[0:rows, 0:cols] = dst\n",
    "\n",
    "# Display the result\n",
    "cv.imshow('Blended Image', img1)\n",
    "cv.waitKey(0)\n",
    "cv.destroyAllWindows()"
   ]
  },
  {
   "cell_type": "code",
   "execution_count": 6,
   "id": "9ab6a30a",
   "metadata": {},
   "outputs": [],
   "source": [
    "import cv2 \n",
    "import numpy as np \n",
    "\n",
    "img2 = cv2.imread('Images/sample1.jpg')\n",
    "img1 = np.zeros((250,5000,3 ), np.uint8 )\n",
    "\n",
    "img1 = cv2.rectangle(img1 , (200,0) , (300,100) ,(255,255,255) ,-1)\n",
    "\n",
    "cv2.imshow('img1' ,img1)\n",
    "cv2.imshow('img2' ,img2)\n",
    "\n",
    "cv2.waitKey(0)\n",
    "cv2.destroyAllWindows()"
   ]
  },
  {
   "cell_type": "markdown",
   "id": "306f6f6a",
   "metadata": {},
   "source": [
    "## Some of the applications of bitwise operations in OpenCV are:\n",
    "\n",
    "1. Creating masks and applying them to images to extract or filter out regions of interest\n",
    "2. Blending two images with different shapes or sizes\n",
    "3. Performing logical operations on binary images\n",
    "4. Inverting the colors of an image\n",
    "5. Enhancing the contrast or brightness of an image"
   ]
  },
  {
   "cell_type": "code",
   "execution_count": null,
   "id": "9a569502",
   "metadata": {},
   "outputs": [],
   "source": []
  },
  {
   "cell_type": "code",
   "execution_count": null,
   "id": "ce281dd4",
   "metadata": {},
   "outputs": [],
   "source": []
  }
 ],
 "metadata": {
  "kernelspec": {
   "display_name": "Python 3 (ipykernel)",
   "language": "python",
   "name": "python3"
  },
  "language_info": {
   "codemirror_mode": {
    "name": "ipython",
    "version": 3
   },
   "file_extension": ".py",
   "mimetype": "text/x-python",
   "name": "python",
   "nbconvert_exporter": "python",
   "pygments_lexer": "ipython3",
   "version": "3.9.13"
  }
 },
 "nbformat": 4,
 "nbformat_minor": 5
}
