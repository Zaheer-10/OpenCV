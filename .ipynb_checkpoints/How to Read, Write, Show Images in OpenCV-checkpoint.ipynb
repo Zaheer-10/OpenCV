{
 "cells": [
  {
   "cell_type": "markdown",
   "id": "0c88310f",
   "metadata": {},
   "source": [
    "# How to Read, Write, Show Images in OpenCV"
   ]
  },
  {
   "cell_type": "markdown",
   "id": "31c90d93",
   "metadata": {},
   "source": [
    "## 1.Read Images"
   ]
  },
  {
   "cell_type": "code",
   "execution_count": 10,
   "id": "f2e9c105",
   "metadata": {},
   "outputs": [
    {
     "name": "stdout",
     "output_type": "stream",
     "text": [
      "None\n"
     ]
    }
   ],
   "source": [
    "import cv2\n",
    "\n",
    "# Read an image from a file\n",
    "img = cv2.imread('opticalflow_lk',0)\n",
    "print(img)"
   ]
  },
  {
   "cell_type": "code",
   "execution_count": null,
   "id": "8495ee08",
   "metadata": {},
   "outputs": [],
   "source": []
  },
  {
   "cell_type": "code",
   "execution_count": null,
   "id": "99156be9",
   "metadata": {},
   "outputs": [],
   "source": []
  },
  {
   "cell_type": "code",
   "execution_count": null,
   "id": "8d916049",
   "metadata": {},
   "outputs": [],
   "source": []
  }
 ],
 "metadata": {
  "kernelspec": {
   "display_name": "Python 3 (ipykernel)",
   "language": "python",
   "name": "python3"
  },
  "language_info": {
   "codemirror_mode": {
    "name": "ipython",
    "version": 3
   },
   "file_extension": ".py",
   "mimetype": "text/x-python",
   "name": "python",
   "nbconvert_exporter": "python",
   "pygments_lexer": "ipython3",
   "version": "3.9.13"
  }
 },
 "nbformat": 4,
 "nbformat_minor": 5
}
