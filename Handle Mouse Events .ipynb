{
 "cells": [
  {
   "cell_type": "markdown",
   "id": "84ed6b8a",
   "metadata": {},
   "source": [
    "# Handle Mouse Events "
   ]
  },
  {
   "cell_type": "markdown",
   "id": "21b7bffa",
   "metadata": {},
   "source": [
    "### All events availabel in opencv"
   ]
  },
  {
   "cell_type": "code",
   "execution_count": 2,
   "id": "4772894c",
   "metadata": {},
   "outputs": [
    {
     "data": {
      "text/plain": [
       "['EVENT_FLAG_ALTKEY',\n",
       " 'EVENT_FLAG_CTRLKEY',\n",
       " 'EVENT_FLAG_LBUTTON',\n",
       " 'EVENT_FLAG_MBUTTON',\n",
       " 'EVENT_FLAG_RBUTTON',\n",
       " 'EVENT_FLAG_SHIFTKEY',\n",
       " 'EVENT_LBUTTONDBLCLK',\n",
       " 'EVENT_LBUTTONDOWN',\n",
       " 'EVENT_LBUTTONUP',\n",
       " 'EVENT_MBUTTONDBLCLK',\n",
       " 'EVENT_MBUTTONDOWN',\n",
       " 'EVENT_MBUTTONUP',\n",
       " 'EVENT_MOUSEHWHEEL',\n",
       " 'EVENT_MOUSEMOVE',\n",
       " 'EVENT_MOUSEWHEEL',\n",
       " 'EVENT_RBUTTONDBLCLK',\n",
       " 'EVENT_RBUTTONDOWN',\n",
       " 'EVENT_RBUTTONUP']"
      ]
     },
     "execution_count": 2,
     "metadata": {},
     "output_type": "execute_result"
    }
   ],
   "source": [
    "import cv2 \n",
    "events = [i for i in dir(cv2) if 'EVENT' in i]\n",
    "events"
   ]
  },
  {
   "cell_type": "markdown",
   "id": "a6ae8ac9",
   "metadata": {},
   "source": [
    "## Call back ()"
   ]
  },
  {
   "cell_type": "code",
   "execution_count": 13,
   "id": "3ced3692",
   "metadata": {
    "scrolled": false
   },
   "outputs": [
    {
     "name": "stdout",
     "output_type": "stream",
     "text": [
      "115   237\n",
      "82   65\n",
      "376   37\n",
      "47   167\n",
      "61   251\n",
      "362   396\n",
      "352   288\n",
      "230   418\n",
      "81   427\n",
      "234   400\n",
      "242   178\n",
      "296   171\n"
     ]
    }
   ],
   "source": [
    "import numpy as np\n",
    "\n",
    "def click_event(event  , x , y , flags , params): # X and y are the cordinartes we are getting when clicking .\n",
    "    if event == cv2.EVENT_LBUTTONDOWN:\n",
    "        print(x, ' ' , y)\n",
    "        font = cv2.FONT_HERSHEY_SIMPLEX\n",
    "        text = str(x)+' , '+str(y)\n",
    "        cv2.putText(img , text , (x, y) , font , 1 , (0,255,255) , 2,cv2.LINE_8)\n",
    "        cv2.imshow(\"img\" , img)\n",
    "    if event == cv2.EVENT_RBUTTONDOWN:\n",
    "        blue = img[y,x ,0]\n",
    "        green = img[y,x ,1]\n",
    "        red = img[y,x ,2]\n",
    "        font = cv2.FONT_HERSHEY_SIMPLEX\n",
    "        text = str(blue)+' , '+str(green)+ ' , '+str(red)\n",
    "        cv2.putText(img , text , (x, y) , font , 1 , (0,255,255) , 2,cv2.LINE_8)\n",
    "        cv2.imshow(\"img\" , img)\n",
    "    \n",
    "img = np.zeros((512,512,3) ,np.uint8)\n",
    "cv2.imshow('img' , img)\n",
    "\n",
    "cv2.setMouseCallback('img' ,click_event )\n",
    "\n",
    "cv2.waitKey(0)\n",
    "cv2.destroyAllWindows()"
   ]
  },
  {
   "cell_type": "markdown",
   "id": "2e1949fe",
   "metadata": {},
   "source": [
    "## Left Down click"
   ]
  },
  {
   "cell_type": "code",
   "execution_count": 14,
   "id": "c7579478",
   "metadata": {},
   "outputs": [],
   "source": [
    "import numpy as np\n",
    "\n",
    "def click_event(event  , x , y , flags , params): # X and y are the cordinartes we are getting when clicking .\n",
    "    if event == cv2.EVENT_LBUTTONDOWN:\n",
    "        print(x, ' ' , y)\n",
    "        font = cv2.FONT_HERSHEY_SIMPLEX\n",
    "        text = str(x)+' , '+str(y)\n",
    "        cv2.putText(img , text , (x, y) , font , 1 , (0,255,255) , 2,cv2.LINE_8)\n",
    "        cv2.imshow(\"img\" , img)\n",
    "   \n",
    "img = np.zeros((512,512,3) ,np.uint8)\n",
    "cv2.imshow('img' , img)\n",
    "\n",
    "cv2.setMouseCallback('img' ,click_event )\n",
    "\n",
    "cv2.waitKey(0)\n",
    "cv2.destroyAllWindows()"
   ]
  },
  {
   "cell_type": "markdown",
   "id": "701026e8",
   "metadata": {},
   "source": [
    "## RGB channel img"
   ]
  },
  {
   "cell_type": "code",
   "execution_count": 3,
   "id": "547a47bd",
   "metadata": {
    "scrolled": true
   },
   "outputs": [
    {
     "name": "stdout",
     "output_type": "stream",
     "text": [
      "120   135\n",
      "39   39\n",
      "30   302\n",
      "35   518\n",
      "120   619\n",
      "82   643\n",
      "34   694\n"
     ]
    }
   ],
   "source": [
    "import numpy as np\n",
    "\n",
    "def click_event(event  , x , y , flags , params): # X and y are the cordinartes we are getting when clicking .\n",
    "    if event == cv2.EVENT_LBUTTONDOWN:\n",
    "        print(x, ' ' , y)\n",
    "        font = cv2.FONT_HERSHEY_SIMPLEX\n",
    "        text = str(x)+' , '+str(y)\n",
    "        cv2.putText(img , text , (x, y) , font , 1 , (0,255,255) , 2,cv2.LINE_8)\n",
    "        cv2.imshow(\"img\" , img)\n",
    "    if event == cv2.EVENT_RBUTTONDOWN:\n",
    "        blue = img[y,x ,0]\n",
    "        green = img[y,x ,1]\n",
    "        red = img[y,x ,2]\n",
    "        font = cv2.FONT_HERSHEY_SIMPLEX\n",
    "        text = str(blue)+' , '+str(green)+ ' , '+str(red)\n",
    "        cv2.putText(img , text , (x, y) , font , 1 , (0,255,255) , 2,cv2.LINE_8)\n",
    "        cv2.imshow(\"img\" , img)\n",
    "    \n",
    "img = cv2.imread('camshift_result.jpg' , 1)\n",
    "cv2.imshow('img' , img)\n",
    "\n",
    "cv2.setMouseCallback('img' ,click_event )\n",
    "\n",
    "cv2.waitKey(0)\n",
    "cv2.destroyAllWindows()"
   ]
  },
  {
   "cell_type": "markdown",
   "id": "e26080fb",
   "metadata": {},
   "source": [
    "# Example 1 - Draw line between from last clicked to point"
   ]
  },
  {
   "cell_type": "code",
   "execution_count": 12,
   "id": "ce78e035",
   "metadata": {},
   "outputs": [],
   "source": [
    "import cv2 \n",
    "import numpy \n",
    "\n",
    "def click_event(event , x , y , flags , params):\n",
    "    if event == cv2.EVENT_LBUTTONDOWN:\n",
    "        cv2.circle(img , (x,y), 3 , (231,143,75) , -1)\n",
    "        points.append((x,y))\n",
    "        if len(points)>=2:\n",
    "            cv2.line(img , points[-1] , points[-2] , (243,133,232) , 5)\n",
    "        cv2.imshow('Picture' , img)\n",
    "        \n",
    "        \n",
    "img = cv2.imread('camshift_result.jpg')\n",
    "cv2.imshow('Picture' , img)\n",
    "points = []\n",
    "\n",
    "cv2.setMouseCallback('Picture' , click_event)\n",
    "\n",
    "cv2.waitKey(0)\n",
    "cv2.destroyAllWindows()"
   ]
  },
  {
   "cell_type": "markdown",
   "id": "f878927a",
   "metadata": {},
   "source": [
    "# Example 2 - Read Image and show the color where its clicked "
   ]
  },
  {
   "cell_type": "code",
   "execution_count": 19,
   "id": "3c4dd526",
   "metadata": {},
   "outputs": [],
   "source": [
    "import cv2 \n",
    "import numpy \n",
    "\n",
    "def click_event(event , x , y , flags , params):\n",
    "    if event == cv2.EVENT_LBUTTONDOWN:\n",
    "        blue = img[x, y , 0]\n",
    "        green = img[x,y,1]\n",
    "        red = img[x,y,2]\n",
    "        \n",
    "        cv2.circle(img , (x,y) , 3 , (0 , 0 , 255) , -1)\n",
    "        \n",
    "        mycolorimg = np.zeros((512,512,3) , np.uint8)\n",
    "        mycolorimg[:]=[blue , green ,red ]\n",
    "        \n",
    "        cv2.imshow('Picture' , mycolorimg)\n",
    "        \n",
    "        \n",
    "img = cv2.imread('camshift_result.jpg')\n",
    "cv2.imshow('Picture' , img)\n",
    "\n",
    "cv2.setMouseCallback('Picture' , click_event)\n",
    "\n",
    "cv2.waitKey(0)\n",
    "cv2.destroyAllWindows()"
   ]
  },
  {
   "cell_type": "code",
   "execution_count": null,
   "id": "9dc10704",
   "metadata": {},
   "outputs": [],
   "source": []
  }
 ],
 "metadata": {
  "kernelspec": {
   "display_name": "Python 3 (ipykernel)",
   "language": "python",
   "name": "python3"
  },
  "language_info": {
   "codemirror_mode": {
    "name": "ipython",
    "version": 3
   },
   "file_extension": ".py",
   "mimetype": "text/x-python",
   "name": "python",
   "nbconvert_exporter": "python",
   "pygments_lexer": "ipython3",
   "version": "3.9.13"
  }
 },
 "nbformat": 4,
 "nbformat_minor": 5
}
