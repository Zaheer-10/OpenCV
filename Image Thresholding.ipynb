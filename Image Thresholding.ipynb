{
 "cells": [
  {
   "cell_type": "markdown",
   "id": "ba570baa",
   "metadata": {},
   "source": [
    "<center>\n",
    "<h1>Simple Image Thresholding</h1>\n",
    "</center>"
   ]
  },
  {
   "cell_type": "markdown",
   "id": "ff81b219",
   "metadata": {},
   "source": [
    "Image thresholding is a technique that transforms an image into a binary image, where the pixels are either 0 or 255 depending on a threshold value. \n",
    "\n",
    "This can help you separate things in the image, find edges, or remove noise.\n"
   ]
  },
  {
   "cell_type": "markdown",
   "id": "83a76af1",
   "metadata": {},
   "source": [
    "### What is image thresholding?\n",
    "- **Image thresholding is an operation that compares each pixel value of an image with a predefined threshold value and assigns a new value to the pixel depending on the comparison result.**\n",
    "\n",
    "- The most common type of image thresholding is binary thresholding, where the new pixel value is either 0 (black) or 255 (white)."
   ]
  },
  {
   "cell_type": "markdown",
   "id": "86c588f0",
   "metadata": {},
   "source": [
    "## How to perform simple image thresholding in opencv python?"
   ]
  },
  {
   "cell_type": "markdown",
   "id": "1411eb39",
   "metadata": {},
   "source": [
    "To perform simple image thresholding in opencv python, we need to use the **cv2.threshold()** function. \n",
    "- The syntax of this function is:\n",
    "\n",
    "**ret, dst = cv2.threshold(src, thresh, maxVal, type)**\n",
    "\n",
    "- where `src` is the source image (grayscale), \n",
    "- `thresh` is the threshold value, \n",
    "- `maxVal` is the maximum value to assign to the pixel, \n",
    "- `type` is the type of thresholding to apply, ret is the optimal threshold value (if applicable), and dst is the output image."
   ]
  },
  {
   "cell_type": "markdown",
   "id": "18c83c4d",
   "metadata": {},
   "source": [
    "## The type parameter can be one of the following values:\n",
    "---\n",
    "1. **cv2.THRESH_BINARY:** \n",
    "- Binary thresholding as described above.\n",
    "---\n",
    "2. **cv2.THRESH_BINARY_INV:** \n",
    "- Inverse binary thresholding, where the new pixel value is 0 if src(x,y) > thresh, otherwise maxVal.\n",
    "---\n",
    "3. **cv2.THRESH_TRUNC:** \n",
    "- Truncation thresholding, where the new pixel value is thresh if src(x,y) > thresh, otherwise src(x,y).\n",
    "---\n",
    "4. **cv2.THRESH_TOZERO:** \n",
    "- To-zero thresholding, where the new pixel value is src(x,y) if src(x,y) > thresh, otherwise 0.\n",
    "---\n",
    "5. **cv2.THRESH_TOZERO_INV:** \n",
    "- Inverse to-zero thresholding, where the new pixel value is 0 if src(x,y) > thresh, otherwise src(x,y)."
   ]
  },
  {
   "cell_type": "markdown",
   "id": "07d382ff",
   "metadata": {},
   "source": [
    "## Example of simple image thresholding "
   ]
  },
  {
   "cell_type": "code",
   "execution_count": 1,
   "id": "8a4235da",
   "metadata": {},
   "outputs": [],
   "source": [
    "import cv2\n",
    "import numpy as np\n",
    "\n",
    "img = cv2.imread(\"Images\\sample1.jpg\" , cv2.IMREAD_GRAYSCALE)\n",
    "\n",
    "\n"
   ]
  },
  {
   "cell_type": "code",
   "execution_count": null,
   "id": "18f9bdb0",
   "metadata": {},
   "outputs": [],
   "source": [
    "# Binary thresholding\n",
    "ret1, thresh1 = cv2.threshold(img, 127, 255, cv2.THRESH_BINARY)\n",
    "cv2.imshow('Binary Threshold', thresh1)\n",
    "\n",
    "\n",
    "# Inverse binary thresholding\n",
    "ret2, thresh2 = cv2.threshold(img, 127, 255, cv2.THRESH_BINARY_INV)\n",
    "cv2.imshow('Inverse Binary Threshold', thresh2)\n",
    "\n",
    "# Truncation thresholding\n",
    "ret3, thresh3 = cv2.threshold(img, 127, 255, cv2.THRESH_TRUNC)\n",
    "cv2.imshow('Truncation Threshold', thresh3)\n",
    "\n",
    "# To-zero thresholding\n",
    "ret4, thresh4 = cv2.threshold(img, 127, 255, cv2.THRESH_TOZERO)\n",
    "cv2.imshow('To-zero Threshold', thresh4)\n",
    "\n",
    "# Inverse to-zero thresholding\n",
    "ret5, thresh5 = cv2.threshold(img, 127, 255, cv2.THRESH_TOZERO_INV)\n",
    "cv2.imshow('Inverse To-zero Threshold', thresh5)\n",
    "\n",
    "# Wait for a key press and close all windows\n",
    "cv2.waitKey(0)\n",
    "cv2.destroyAllWindows()\n"
   ]
  },
  {
   "cell_type": "markdown",
   "id": "716941f9",
   "metadata": {},
   "source": [
    "## Applications of image thresholding\n",
    "---\n",
    "1. **Image segmentation:** \n",
    "- Image thresholding can help separate the foreground objects from the background, which is useful for object detection, face recognition, medical imaging, etc. For example, you can use thresholding to segment coins from a background image.\n",
    "---\n",
    "2. **Edge detection:**\n",
    "- Image thresholding can help enhance the edges of an image, which is useful for feature extraction, shape analysis, contour detection, etc. For example, you can use thresholding to detect the edges of a license plate.\n",
    "---\n",
    "3. **Noise reduction:** \n",
    "- Image thresholding can help remove noise from an image, which is useful for improving image quality, compression, recognition, etc. For example, you can use thresholding to remove salt and pepper noise from an image."
   ]
  },
  {
   "cell_type": "code",
   "execution_count": null,
   "id": "fab1b9db",
   "metadata": {},
   "outputs": [],
   "source": []
  }
 ],
 "metadata": {
  "celltoolbar": "Slideshow",
  "kernelspec": {
   "display_name": "Python 3 (ipykernel)",
   "language": "python",
   "name": "python3"
  },
  "language_info": {
   "codemirror_mode": {
    "name": "ipython",
    "version": 3
   },
   "file_extension": ".py",
   "mimetype": "text/x-python",
   "name": "python",
   "nbconvert_exporter": "python",
   "pygments_lexer": "ipython3",
   "version": "3.9.13"
  }
 },
 "nbformat": 4,
 "nbformat_minor": 5
}
