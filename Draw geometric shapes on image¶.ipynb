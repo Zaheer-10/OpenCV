{
 "cells": [
  {
   "cell_type": "markdown",
   "id": "89fb3af6",
   "metadata": {},
   "source": [
    "# \tDraw geometric shapes on image"
   ]
  },
  {
   "cell_type": "markdown",
   "id": "8c95a7fa",
   "metadata": {},
   "source": [
    "#### We may require to draw certain shapes on an image such as circle, rectangle, ellipse, polylines, convex, etc. and we can easily do this using OpenCV. \n",
    "#### It is often used when we want to highlight any object in the input image for example in case of face detection, we might want to highlight the face with a rectangle. "
   ]
  },
  {
   "cell_type": "code",
   "execution_count": null,
   "id": "bfa171e7",
   "metadata": {},
   "outputs": [],
   "source": []
  },
  {
   "cell_type": "code",
   "execution_count": null,
   "id": "185f89e5",
   "metadata": {},
   "outputs": [],
   "source": []
  },
  {
   "cell_type": "code",
   "execution_count": null,
   "id": "50cb6de7",
   "metadata": {},
   "outputs": [],
   "source": []
  },
  {
   "cell_type": "code",
   "execution_count": 6,
   "id": "4afa26ce",
   "metadata": {},
   "outputs": [],
   "source": [
    "import cv2\n",
    "\n",
    "img = cv2.imread('meanshift_basics.jpg' , 1)\n",
    "\n",
    "dis = cv2.imshow('Image' , img)\n",
    "\n",
    "cv2.waitKey(0)\n",
    "\n",
    "cv2.destroyAllWindows()\n",
    "\n",
    "dis"
   ]
  },
  {
   "cell_type": "markdown",
   "id": "977abf64",
   "metadata": {},
   "source": [
    "## Drawing a line"
   ]
  },
  {
   "cell_type": "markdown",
   "id": "72c5a48e",
   "metadata": {},
   "source": [
    "####  cv2.line(image, start_point, end_point, color, thickness)"
   ]
  },
  {
   "cell_type": "code",
   "execution_count": 11,
   "id": "1da47a93",
   "metadata": {},
   "outputs": [],
   "source": [
    "import cv2\n",
    "\n",
    "img = cv2.imread('meanshift_basics.jpg' , 1)\n",
    "\n",
    "img = cv2.line(img , (0,0) , (255,255) , (0,0,255) , 6)\n",
    "#           Image , start point - end point , rgb color , thickness\n",
    "\n",
    "dis = cv2.imshow('Image' , img)\n",
    "\n",
    "cv2.waitKey(0)\n",
    "\n",
    "cv2.destroyAllWindows()\n",
    "\n",
    "dis"
   ]
  },
  {
   "cell_type": "markdown",
   "id": "a296a4c7",
   "metadata": {},
   "source": [
    "## Arrowed Line"
   ]
  },
  {
   "cell_type": "code",
   "execution_count": 12,
   "id": "6f2b16cb",
   "metadata": {},
   "outputs": [],
   "source": [
    "import cv2\n",
    "\n",
    "img = cv2.imread('meanshift_basics.jpg' , 1)\n",
    "\n",
    "img = cv2.arrowedLine(img , (0,0) , (255,255) , (0,0,255) , 6)\n",
    "#           Image , start point - end point , rgb color , thickness\n",
    "\n",
    "dis = cv2.imshow('Image' , img)\n",
    "\n",
    "cv2.waitKey(0)\n",
    "\n",
    "cv2.destroyAllWindows()\n",
    "\n",
    "dis"
   ]
  },
  {
   "cell_type": "markdown",
   "id": "3a16b866",
   "metadata": {},
   "source": [
    "## Draw Rectangle"
   ]
  },
  {
   "cell_type": "markdown",
   "id": "e15ea230",
   "metadata": {},
   "source": [
    "#### \t cv2.rectangle(image, start_point, end_point, color, thickness)"
   ]
  },
  {
   "cell_type": "code",
   "execution_count": 8,
   "id": "e7064df8",
   "metadata": {},
   "outputs": [],
   "source": [
    "import cv2\n",
    "\n",
    "img = cv2.imread('meanshift_basics.jpg' , 1)\n",
    "\n",
    "img = cv2.rectangle(img , (0,0) , (255,255) , (0,0,255) , 6)\n",
    "#           Image , start point - end point , rgb color , thickness\n",
    "\n",
    "dis = cv2.imshow('Image' , img)\n",
    "\n",
    "cv2.waitKey(0)\n",
    "\n",
    "cv2.destroyAllWindows()\n",
    "\n",
    "dis"
   ]
  },
  {
   "cell_type": "code",
   "execution_count": 16,
   "id": "8f6ef6b6",
   "metadata": {},
   "outputs": [],
   "source": [
    "import cv2\n",
    "\n",
    "img = cv2.imread('meanshift_basics.jpg' , 1)\n",
    "\n",
    "img = cv2.rectangle(img , (0,0) , (255,255) , (0,0,255) , -1) # -1 == fill rectangle\n",
    "#           Image , start point - end point , rgb color , thickness\n",
    "\n",
    "dis = cv2.imshow('Image' , img)\n",
    "\n",
    "cv2.waitKey(0)\n",
    "\n",
    "cv2.destroyAllWindows()\n",
    "\n",
    "dis"
   ]
  },
  {
   "cell_type": "markdown",
   "id": "7af81276",
   "metadata": {},
   "source": [
    "## Draw Circle "
   ]
  },
  {
   "cell_type": "markdown",
   "id": "b2a6c6f5",
   "metadata": {},
   "source": [
    "### \t cv2.circle(image, center_coordinates, radius, color, thickness)"
   ]
  },
  {
   "cell_type": "markdown",
   "id": "5fa6befe",
   "metadata": {},
   "source": [
    "### Parameters: \n",
    "1. image: It is the input image on which a circle is to be drawn. \n",
    "2. center_coordinates: It is the center coordinates of the circle. The coordinates are represented as tuples of two values i.e. (X coordinate value, Y coordinate value). \n",
    "3. radius: It is the radius of the circle. \n",
    "4. color: It is the color of the border line of the circle to be drawn. We can pass a tuple For in BGR,  eg: (255, 0, 0) for blue color. \n",
    "5. thickness: It is the thickness of the circle border line in px. Thickness of -1 px will fill the circle shape by the specified color.\n",
    "5. Return Value: It returns an image."
   ]
  },
  {
   "cell_type": "code",
   "execution_count": 8,
   "id": "458b61f3",
   "metadata": {},
   "outputs": [],
   "source": [
    "import cv2\n",
    "\n",
    "img = cv2.imread('meanshift_basics.jpg' , 1)\n",
    "\n",
    "\n",
    "\n",
    "img = cv2.circle(img , (447,63) , 63 , (0,255,0) ,-1)\n",
    "#           Image , Center - radius , color , thickness\n",
    "\n",
    "dis = cv2.imshow('Image' , img)\n",
    "\n",
    "cv2.waitKey(0)\n",
    "\n",
    "cv2.destroyAllWindows()\n",
    "\n",
    "dis"
   ]
  },
  {
   "cell_type": "markdown",
   "id": "c7d28409",
   "metadata": {},
   "source": [
    "## Write text on the image "
   ]
  },
  {
   "cell_type": "markdown",
   "id": "a10cc421",
   "metadata": {},
   "source": [
    "#### cv2.putText(img, text, org, font,fontScale color)"
   ]
  },
  {
   "cell_type": "code",
   "execution_count": 23,
   "id": "2dbef5a4",
   "metadata": {},
   "outputs": [
    {
     "data": {
      "text/plain": [
       "array([[[255, 255, 255],\n",
       "        [255, 255, 255],\n",
       "        [255, 255, 255],\n",
       "        ...,\n",
       "        [255, 255, 255],\n",
       "        [255, 255, 255],\n",
       "        [255, 255, 255]],\n",
       "\n",
       "       [[255, 255, 255],\n",
       "        [255, 255, 255],\n",
       "        [255, 255, 255],\n",
       "        ...,\n",
       "        [255, 255, 255],\n",
       "        [255, 255, 255],\n",
       "        [255, 255, 255]],\n",
       "\n",
       "       [[255, 255, 255],\n",
       "        [255, 255, 255],\n",
       "        [255, 255, 255],\n",
       "        ...,\n",
       "        [255, 255, 255],\n",
       "        [255, 255, 255],\n",
       "        [255, 255, 255]],\n",
       "\n",
       "       ...,\n",
       "\n",
       "       [[255, 255, 255],\n",
       "        [255, 255, 255],\n",
       "        [255, 255, 255],\n",
       "        ...,\n",
       "        [254, 255, 255],\n",
       "        [255, 255, 255],\n",
       "        [255, 255, 255]],\n",
       "\n",
       "       [[255, 255, 255],\n",
       "        [255, 255, 255],\n",
       "        [255, 255, 255],\n",
       "        ...,\n",
       "        [254, 255, 255],\n",
       "        [255, 255, 255],\n",
       "        [255, 255, 255]],\n",
       "\n",
       "       [[255, 255, 255],\n",
       "        [255, 255, 255],\n",
       "        [255, 255, 255],\n",
       "        ...,\n",
       "        [254, 255, 255],\n",
       "        [255, 255, 255],\n",
       "        [255, 255, 255]]], dtype=uint8)"
      ]
     },
     "execution_count": 23,
     "metadata": {},
     "output_type": "execute_result"
    }
   ],
   "source": [
    "import cv2\n",
    "\n",
    "img = cv2.imread('meanshift_basics.jpg' , 1)\n",
    "\n",
    "font = cv2.FONT_ITALIC\n",
    "\n",
    "img = cv2.putText(img , 'Zaheer' , (0,255) ,  font ,        4,      (0,0,0),      7 ,  cv2.LINE_8)\n",
    "#                Image , text ,   strt-end  , font-face , font-size , color , thickness , line type\n",
    "\n",
    "dis = cv2.imshow('Image' , img)\n",
    "\n",
    "cv2.waitKey(0)\n",
    "\n",
    "cv2.destroyAllWindows()\n",
    "\n",
    "dis"
   ]
  },
  {
   "cell_type": "markdown",
   "id": "18d09cde",
   "metadata": {},
   "source": [
    "## Drawing Polylines"
   ]
  },
  {
   "cell_type": "markdown",
   "id": "e24b24cf",
   "metadata": {},
   "source": [
    "#### cv2.polyLine(image, arr, is_closed, color, thickness)  "
   ]
  },
  {
   "cell_type": "markdown",
   "id": "1f044dd4",
   "metadata": {},
   "source": [
    "#### Parameters:\n",
    "\n",
    "1. img – It represents an image.\n",
    "2. arr -represents the coordinates of vertices into an array of shape nx1x2 where n is number of vertices and it should be of type int32.\n",
    "3. is_Closed – It is a flag that indicates whether the drawn polylines are closed or not.\n",
    "4. color – Color of polylines. We can pass a tuple For in BGR,  eg: (255, 0, 0) for blue color. \n",
    "5. thickness – It represents the Thickness of the polyline’s edges."
   ]
  },
  {
   "cell_type": "code",
   "execution_count": 15,
   "id": "cb1bb18f",
   "metadata": {},
   "outputs": [],
   "source": [
    "import numpy as np  \n",
    "import cv2  \n",
    "img = cv2.imread('meanshift_basics.jpg' , 1)\n",
    "\n",
    "#defining points for polylines  \n",
    "pts = np.array([[100,50],[200,300],[700,200],[500,100]], np.int32)  \n",
    "\n",
    "# pts = pts.reshape((-1,1,2))  \n",
    "cv2.polylines(img, [pts], True, (0,255,255), 3)  \n",
    "\n",
    "cv2.imshow('image',img)  \n",
    "\n",
    "cv2.waitKey(0)  \n",
    "cv2.destroyAllWindows() "
   ]
  },
  {
   "cell_type": "markdown",
   "id": "59ec681f",
   "metadata": {},
   "source": [
    "## Create an img using numpy module"
   ]
  },
  {
   "cell_type": "code",
   "execution_count": 13,
   "id": "aa3a64ab",
   "metadata": {},
   "outputs": [],
   "source": [
    "import cv2\n",
    "import numpy as np \n",
    "\n",
    "# img = cv2.imread('meanshift_basics.jpg' , 1)\n",
    "\n",
    "img = np.zeros([512,512,3] , dtype = float)\n",
    "\n",
    "font = cv2.FONT_ITALIC\n",
    "\n",
    "\n",
    "img = cv2.rectangle(img , (0,0) , (255,255) , (0,0,255) , -1) # -1 == fill rectangle\n",
    "\n",
    "\n",
    "img = cv2.circle(img , (447,63) , 63 , (0,255,0) ,-1)\n",
    "\n",
    "img = cv2.putText(img , 'Zaheer' , (0,255) ,  font ,        4,      (255,255,255),      7 ,  cv2.LINE_8)\n",
    "#                Image , text ,   strt-end  , font-face , font-size , color , thickness , line type\n",
    "\n",
    "dis = cv2.imshow('Image' , img)\n",
    "\n",
    "cv2.waitKey(0)\n",
    "\n",
    "cv2.destroyAllWindows()\n",
    "\n",
    "dis"
   ]
  },
  {
   "cell_type": "code",
   "execution_count": null,
   "id": "6e6512df",
   "metadata": {},
   "outputs": [],
   "source": []
  },
  {
   "cell_type": "code",
   "execution_count": 18,
   "id": "eee60bdb",
   "metadata": {},
   "outputs": [],
   "source": [
    "# Import OpenCV and numpy libraries\n",
    "import cv2\n",
    "import numpy as np\n",
    "\n",
    "# Load an image from a file\n",
    "img = cv2.imread('meanshift_basics.jpg' , 1)\n",
    "\n",
    "# Draw a line from (50, 50) to (200, 200) with color (0, 255, 0) and thickness 5\n",
    "cv2.line(img, (50, 50), (200, 200), (0, 255, 0), 5)\n",
    "\n",
    "# Draw a rectangle with top-left corner at (100, 100) and bottom-right corner at (300, 300) with color (255, 0, 0) and thickness 3\n",
    "cv2.rectangle(img, (100, 100), (300, 300), (255, 0, 0), 3)\n",
    "\n",
    "# Draw a circle with center at (250, 250) and radius 100 with color (0, 0, 255) and thickness -1 (filled)\n",
    "cv2.circle(img, (250, 250), 100, (0, 0, 255), -1)\n",
    "\n",
    "# Draw an ellipse with center at (400, 400), axes lengths (150, 100), angle 30 degrees, start angle 0 degrees and end angle 360 degrees with color (255, 255, 0) and thickness 4\n",
    "cv2.ellipse(img, (400, 400), (150, 100), 30, 0, 360, (255, 255, 0), 4)\n",
    "\n",
    "\n",
    "# Show the image in a window\n",
    "cv2.imshow(\"Image\", img)\n",
    "\n",
    "# Wait for a key press to close the window\n",
    "cv2.waitKey(0)\n",
    "\n",
    "# Destroy all windows\n",
    "cv2.destroyAllWindows()\n"
   ]
  },
  {
   "cell_type": "markdown",
   "id": "e53352a7",
   "metadata": {},
   "source": [
    "## Translation\n"
   ]
  },
  {
   "cell_type": "markdown",
   "id": "eaf9cb8e",
   "metadata": {},
   "source": [
    "\n",
    "Translation is the shifting of an object's location. If you know the shift in the (x,y) direction and let it be (tx,ty), you can create the transformation matrix M as follows:\n",
    "\n",
    "M=[1001txty]\n",
    "You can take make it into a Numpy array of type np.float32 and pass it into the cv.warpAffine() function. See the below example for a shift of (100,50):"
   ]
  },
  {
   "cell_type": "code",
   "execution_count": 2,
   "id": "ea94cb0f",
   "metadata": {},
   "outputs": [
    {
     "data": {
      "text/plain": [
       "-1"
      ]
     },
     "execution_count": 2,
     "metadata": {},
     "output_type": "execute_result"
    }
   ],
   "source": [
    "import numpy as np\n",
    "import cv2 as cv\n",
    "img = cv.imread('meanshift_basics.jpg' , 0)\n",
    "assert img is not None, \"file could not be read, check with os.path.exists()\"\n",
    "rows,cols = img.shape\n",
    "M = np.float32([[1,0,100],[0,1,50]])\n",
    "dst = cv.warpAffine(img,M,(cols,rows))\n",
    "cv.imshow('img',dst)\n",
    "cv.waitKey(0)"
   ]
  }
 ],
 "metadata": {
  "kernelspec": {
   "display_name": "Python 3 (ipykernel)",
   "language": "python",
   "name": "python3"
  },
  "language_info": {
   "codemirror_mode": {
    "name": "ipython",
    "version": 3
   },
   "file_extension": ".py",
   "mimetype": "text/x-python",
   "name": "python",
   "nbconvert_exporter": "python",
   "pygments_lexer": "ipython3",
   "version": "3.9.13"
  }
 },
 "nbformat": 4,
 "nbformat_minor": 5
}
