{
 "cells": [
  {
   "cell_type": "markdown",
   "id": "d721e0cf",
   "metadata": {},
   "source": [
    "<center>\n",
    "<h1> Morphological Transformations</h1>\n",
    "</center>"
   ]
  },
  {
   "cell_type": "markdown",
   "id": "118bfdbd",
   "metadata": {},
   "source": [
    "<center> \n",
    "<a> https://docs.opencv.org/4.x/d9/d61/tutorial_py_morphological_ops.html</a>\n",
    "    </center>\n"
   ]
  },
  {
   "cell_type": "markdown",
   "id": "10078d58",
   "metadata": {},
   "source": [
    "Morphological transformations are simple and powerful ways to change the shape and appearance of objects in an image. They can help us to remove noise, find objects, read barcodes, and more."
   ]
  },
  {
   "cell_type": "markdown",
   "id": "c677191d",
   "metadata": {},
   "source": [
    "## What are Morphological Transformations?\n",
    "- Morphological transformations are operations that modify the structure of an image based on a given shape or kernel. \n",
    "- The kernel is a small matrix that defines the region of interest around each pixel. \n",
    "- Depending on the type of operation, the kernel can either add or remove pixels from the image.\n",
    "---\n",
    "- There are two basic types of morphological transformations: \n",
    "---\n",
    "- Erosion and Dilation. \n",
    "1. Erosion makes the objects in an image smaller by eroding away the boundary pixels. \n",
    "2. Dilation makes the objects in an image bigger by adding pixels to the boundary. \n",
    "\n",
    "- These operations can be combined to create more complex transformations, such as opening, closing, gradient, top hat, and black hat."
   ]
  },
  {
   "cell_type": "markdown",
   "id": "77f3b26f",
   "metadata": {},
   "source": [
    "## How to Perform Erosion and Dilation in OpenCV?\n"
   ]
  },
  {
   "cell_type": "markdown",
   "id": "8396c443",
   "metadata": {},
   "source": [
    "- To perform erosion and dilation in OpenCV, we can use the `cv.erode()` and `cv.dilate()` functions. \n",
    "- These functions take an input image, a kernel, and a number of iterations as parameters. \n",
    "- The kernel can be any shape or size, such as a square, a circle, or a cross. \n",
    "- The number of iterations determines how many times the operation is applied to the image.\n"
   ]
  },
  {
   "cell_type": "markdown",
   "id": "95ff353c",
   "metadata": {},
   "source": [
    "## Erosion\n",
    "\n",
    "- Erosion is making the white parts smaller by taking away the pixels near the edges. \n",
    "- It is like rubbing the edges of the things with a small square or circle. \n",
    "- The small square or circle moves over the picture and changes the pixel in the middle to the smallest value of all the pixels under it. \n",
    "- This means that if any pixel under it is black, the middle pixel will also become black. \n",
    "- Erosion can be used to remove small white dots or split two things that are touching."
   ]
  },
  {
   "cell_type": "markdown",
   "id": "0cbe5e20",
   "metadata": {},
   "source": [
    "The basic idea of erosion is just like soil erosion only, it erodes away the boundaries of foreground object (Always try to keep foreground in white). So what it does? The kernel slides through the image (as in 2D convolution). A pixel in the original image (either 1 or 0) will be considered 1 only if all the pixels under the kernel is 1, otherwise it is eroded (made to zero).\n",
    "\n",
    "So what happends is that, all the pixels near boundary will be discarded depending upon the size of kernel. So the thickness or size of the foreground object decreases or simply white region decreases in the image. It is useful for removing small white noises (as we have seen in colorspace chapter), detach two connected objects etc."
   ]
  },
  {
   "cell_type": "code",
   "execution_count": 19,
   "id": "f9c6edef",
   "metadata": {},
   "outputs": [],
   "source": [
    "import cv2 as cv\n",
    "import numpy as np\n",
    "\n",
    "img = cv.imread('Images/morph_input.jpg')\n",
    "kernel = np.ones((3,3),np.uint8)\n",
    "erosion = cv.erode(img,kernel,iterations = 3)\n",
    "cv.imshow('Erosion',erosion)\n",
    "cv.waitKey(0)\n",
    "cv.destroyAllWindows()"
   ]
  },
  {
   "cell_type": "markdown",
   "id": "1bca0477",
   "metadata": {},
   "source": [
    "## Dilation\n",
    "\n",
    "- Dilation is making the white parts bigger by adding pixels to the edges. \n",
    "- It is like stretching the edges of the things with a small square or circle. \n",
    "- The small square or circle moves over the picture and changes the pixel in the middle to the biggest value of all the pixels under it. \n",
    "- This means that if any pixel under it is white, the middle pixel will also become white. \n",
    "- Dilation can be used to fill small holes or gaps in a thing or join broken parts of a thing."
   ]
  },
  {
   "cell_type": "markdown",
   "id": "5f0c697d",
   "metadata": {},
   "source": [
    "It is just opposite of erosion. Here, a pixel element is '1' if at least one pixel under the kernel is '1'. So it increases the white region in the image or size of foreground object increases. Normally, in cases like noise removal, erosion is followed by dilation. \n",
    "\n",
    "Because, erosion removes white noises, but it also shrinks our object. So we dilate it. Since noise is gone, they won't come back, but our object area increases. It is also useful in joining broken parts of an object."
   ]
  },
  {
   "cell_type": "code",
   "execution_count": 20,
   "id": "b9692770",
   "metadata": {},
   "outputs": [],
   "source": [
    "import cv2 as cv\n",
    "import numpy as np\n",
    "\n",
    "img = cv.imread('Images/morph_input.jpg')\n",
    "\n",
    "kernel = np.ones((3,3),np.uint8)\n",
    "# kernel = cv.getStructuringElement(cv.MORPH_ELLIPSE,(5,5))\n",
    "erosion = cv.erode(img,kernel,iterations = 2)\n",
    "\n",
    "cv.imshow('Erosion',erosion)\n",
    "cv.waitKey(0)\n",
    "cv.destroyAllWindows()\n"
   ]
  },
  {
   "cell_type": "markdown",
   "id": "a446ac0a",
   "metadata": {},
   "source": [
    "## How to Perform Other Morphological Operations in OpenCV?"
   ]
  },
  {
   "cell_type": "markdown",
   "id": "adca5322",
   "metadata": {},
   "source": [
    "- Opening and closing are two common morphological operations that combine erosion and dilation. "
   ]
  },
  {
   "cell_type": "markdown",
   "id": "9a9c6acf",
   "metadata": {},
   "source": [
    " 1. Opening is erosion followed by dilation. It can be used to remove small noise from an image while preserving the shape of the objects. \n",
    " ---\n",
    "2. Closing is dilation followed by erosion. It can be used to fill small holes or gaps in an image while preserving the shape of the objects."
   ]
  },
  {
   "cell_type": "markdown",
   "id": "243df5bd",
   "metadata": {},
   "source": [
    "- To perform opening and closing in `OpenCV`, we can use the `cv.morphologyEx()` function with `cv.MORPH_OPEN` and `cv.MORPH_CLOSE` parameters. \n",
    "- This function takes an input image, a kernel, and a type of operation as parameters."
   ]
  },
  {
   "cell_type": "code",
   "execution_count": null,
   "id": "0102e191",
   "metadata": {},
   "outputs": [],
   "source": [
    "import cv2 as cv \n",
    "import numpy as np \n",
    "\n",
    "# img = cv.imread('Images/morph_input.jpg')\n",
    "img = cv.imread('Images\\j.png')\n",
    "kernel = np.ones((3,3) , np.uint8)\n",
    "\n",
    "opening = cv.morphologyEx(img ,  cv.MORPH_OPEN , kernel)\n",
    "\n",
    "cv.imshow('Image' , img)\n",
    "cv.imshow('img' , opening)\n",
    "cv.waitKey(0)\n",
    "cv.destroyAllWindows()\n"
   ]
  },
  {
   "cell_type": "markdown",
   "id": "e30211b4",
   "metadata": {},
   "source": [
    "**We can see that the noise has been removed and the img is still clear.**"
   ]
  },
  {
   "cell_type": "markdown",
   "id": "d741360e",
   "metadata": {},
   "source": [
    "### We can use the same kernel and closing operation to fill the gaps "
   ]
  },
  {
   "cell_type": "code",
   "execution_count": 33,
   "id": "b0ba8aa3",
   "metadata": {},
   "outputs": [],
   "source": [
    "import cv2 as cv \n",
    "import numpy as np \n",
    "\n",
    "img = cv.imread('Images\\j.png')\n",
    "\n",
    "kernel = np.ones((3,3) , np.uint8)\n",
    "\n",
    "opening = cv.morphologyEx(img ,  cv.MORPH_CLOSE , kernel)\n",
    "\n",
    "cv.imshow('Image' , img)\n",
    "cv.imshow('img' , opening)\n",
    "cv.waitKey(0)\n",
    "cv.destroyAllWindows()\n"
   ]
  },
  {
   "cell_type": "markdown",
   "id": "f9604ff3",
   "metadata": {},
   "source": [
    "## How to Perform Other Morphological Operations"
   ]
  },
  {
   "cell_type": "markdown",
   "id": "f647d486",
   "metadata": {},
   "source": [
    "Besides opening and closing, there are some other morphological operations that we can perform using the cv.morphologyEx() function. These operations are:"
   ]
  },
  {
   "cell_type": "markdown",
   "id": "3c72b931",
   "metadata": {},
   "source": [
    "1. **Gradient**: \n",
    "- The difference between dilation and erosion. It can be used to highlight the edges of the objects in an image."
   ]
  },
  {
   "cell_type": "code",
   "execution_count": 1,
   "id": "450bfb09",
   "metadata": {},
   "outputs": [],
   "source": [
    "import cv2 as cv \n",
    "import numpy as np \n",
    "\n",
    "img = cv.imread('Images\\j.png')\n",
    "\n",
    "kernel = np.ones((3,3) , np.uint8)\n",
    "\n",
    "Gradient = cv.morphologyEx(img ,  cv.MORPH_GRADIENT , kernel)\n",
    "\n",
    "cv.imshow('Image' , img)\n",
    "cv.imshow('Gradient' , Gradient)\n",
    "cv.waitKey(0)\n",
    "cv.destroyAllWindows()\n"
   ]
  },
  {
   "cell_type": "markdown",
   "id": "da11f621",
   "metadata": {},
   "source": [
    "#### We can see that the edges of the Image are more visible.\n",
    "\n"
   ]
  },
  {
   "cell_type": "markdown",
   "id": "578c60d9",
   "metadata": {},
   "source": [
    "2. **Top Hat**: \n",
    "- The difference between the input image and its opening. It can be used to extract bright spots from a dark background.\n",
    "---"
   ]
  },
  {
   "cell_type": "code",
   "execution_count": 2,
   "id": "fa3075c3",
   "metadata": {},
   "outputs": [],
   "source": [
    "import cv2 as cv \n",
    "import numpy as np \n",
    "\n",
    "img = cv.imread('Images\\j.png')\n",
    "\n",
    "kernel = np.ones((3,3) , np.uint8)\n",
    "\n",
    "TOPHAT = cv.morphologyEx(img ,  cv.MORPH_TOPHAT , kernel)\n",
    "\n",
    "cv.imshow('Image' , img)\n",
    "cv.imshow('TOPHAT' , TOPHAT)\n",
    "cv.waitKey(0)\n",
    "cv.destroyAllWindows()\n"
   ]
  },
  {
   "cell_type": "markdown",
   "id": "5d99825a",
   "metadata": {},
   "source": [
    "#### We can see that the bright spots are more visible."
   ]
  },
  {
   "cell_type": "markdown",
   "id": "987f6253",
   "metadata": {},
   "source": [
    "\n",
    "3. **Black Hat**: \n",
    "- The difference between the input image and its closing. It can be used to extract dark spots from a bright background."
   ]
  },
  {
   "cell_type": "code",
   "execution_count": 5,
   "id": "6ee4f09e",
   "metadata": {},
   "outputs": [],
   "source": [
    "import cv2 as cv \n",
    "import numpy as np \n",
    "\n",
    "img = cv.imread('Images\\j.png')\n",
    "\n",
    "kernel = np.ones((3,3) , np.uint8)\n",
    "\n",
    "BLACKHAT = cv.morphologyEx(img ,  cv.MORPH_BLACKHAT , kernel)\n",
    "\n",
    "cv.imshow('Image' , img)\n",
    "cv.imshow('BLACKHAT' , BLACKHAT)\n",
    "cv.waitKey(0)\n",
    "cv.destroyAllWindows()\n"
   ]
  },
  {
   "cell_type": "markdown",
   "id": "a8e00054",
   "metadata": {},
   "source": [
    "#### We can see that the dark spots are more visible."
   ]
  },
  {
   "cell_type": "markdown",
   "id": "add1f0f8",
   "metadata": {},
   "source": [
    "## More about Kernel's"
   ]
  },
  {
   "cell_type": "markdown",
   "id": "aca2788e",
   "metadata": {},
   "source": [
    "####  A kernel is a small matrix that defines the shape and size of the region that we want to modify in an image. \n",
    "#### For example, a 3x3 kernel looks like this:\n",
    "|1 1 1|\n",
    "\n",
    "|1 1 1|\n",
    "\n",
    "|1 1 1|"
   ]
  },
  {
   "cell_type": "markdown",
   "id": "77c70d63",
   "metadata": {},
   "source": [
    "- We can use different kernels to perform different morphological operations, such as erosion, dilation, opening, closing, etc. \n",
    "- For example, if we want to **erode** an image, we use a kernel to scan through the image and check if all the pixels under the kernel are 1. \n",
    "- If yes, we keep the origin pixel as 1. \n",
    "- If no, we change the origin pixel to 0. \n",
    "- This way, we can shrink the objects in the image by removing the boundary pixels."
   ]
  },
  {
   "cell_type": "markdown",
   "id": "bfd1641a",
   "metadata": {},
   "source": [
    "If we want to **dilate** an image, we use a kernel to scan through the image and check if any of the pixels under the kernel are 1. If yes, we change the origin pixel to 1. If no, we keep the origin pixel as 0. This way, we can enlarge the objects in the image by adding pixels to the boundary."
   ]
  },
  {
   "cell_type": "markdown",
   "id": "e7cb8284",
   "metadata": {},
   "source": [
    "We can also use different shapes and sizes of kernels to achieve different effects. For example, we can use a circular kernel instead of a square one, or we can use a larger kernel to affect more pixels. "
   ]
  },
  {
   "cell_type": "code",
   "execution_count": null,
   "id": "facb5b78",
   "metadata": {},
   "outputs": [],
   "source": [
    "# Rectangular Kernel\n",
    ">>> cv.getStructuringElement(cv.MORPH_RECT,(5,5))\n",
    "array([[1, 1, 1, 1, 1],\n",
    " [1, 1, 1, 1, 1],\n",
    " [1, 1, 1, 1, 1],\n",
    " [1, 1, 1, 1, 1],\n",
    " [1, 1, 1, 1, 1]], dtype=uint8)\n",
    "\n",
    "\n",
    "# Elliptical Kernel\n",
    ">>> cv.getStructuringElement(cv.MORPH_ELLIPSE,(5,5))\n",
    "array([[0, 0, 1, 0, 0],\n",
    " [1, 1, 1, 1, 1],\n",
    " [1, 1, 1, 1, 1],\n",
    " [1, 1, 1, 1, 1],\n",
    " [0, 0, 1, 0, 0]], dtype=uint8)\n",
    "\n",
    "\n",
    "# Cross-shaped Kernel\n",
    ">>> cv.getStructuringElement(cv.MORPH_CROSS,(5,5))\n",
    "array([[0, 0, 1, 0, 0],\n",
    " [0, 0, 1, 0, 0],\n",
    " [1, 1, 1, 1, 1],\n",
    " [0, 0, 1, 0, 0],\n",
    " [0, 0, 1, 0, 0]], dtype=uint8)"
   ]
  },
  {
   "cell_type": "markdown",
   "id": "e8a59888",
   "metadata": {},
   "source": [
    "### A square kernel: \n",
    "#### This kernel has all elements equal to one and has a square shape. For example, a 3x3 square kernel is:\n",
    "\n",
    "|1 1 1|\n",
    "\n",
    "|1 1 1|\n",
    "\n",
    "|1 1 1|\n",
    "\n",
    "---\n",
    "### A circular kernel: \n",
    "####  This kernel has elements equal to one only if they are inside a circle and zero otherwise. For example, a 3x3 circular kernel is:\n",
    "\n",
    "|0 1 0|\n",
    "\n",
    "|1 1 1|\n",
    "\n",
    "|0 1 0|\n",
    "\n",
    "---\n",
    "\n",
    "### A cross-shaped kernel: \n",
    "#### This kernel has elements equal to one only if they are on the horizontal or vertical axis and zero otherwise. For example, a 3x3 cross-shaped kernel is:\n",
    "\n",
    "|0 1 0|\n",
    "\n",
    "|1 1 1|\n",
    "\n",
    "|0 1 0|\n",
    "\n",
    "---\n",
    "\n",
    "### A custom kernel: \n",
    "##### This kernel can have any shape and values that suit the specific problem. For example, a custom kernel that can detect horizontal lines is:\n",
    "\n",
    "|-1 -1 -1|\n",
    "\n",
    "| 2  2  2|\n",
    "\n",
    "|-1 -1 1-|\n",
    "\n",
    "---\n",
    "\n",
    " You can create your own kernels using NumPy’s functions such as `np.ones`, `np.zeros`, `np.eye`, etc. \n",
    " \n",
    " You can also use OpenCV’s function `cv2.getStructuringElement` to create predefined kernels such as square, circular, or elliptical."
   ]
  },
  {
   "cell_type": "markdown",
   "id": "91ebd952",
   "metadata": {},
   "source": [
    "#### There are three shapes of kernels that can be created using cv2.getStructuringElement:\n",
    "\n",
    "1. Rectangular: cv2.MORPH_RECT\n",
    "2. Cross-shaped: cv2.MORPH_CROSS\n",
    "3. Elliptical: cv2.MORPH_ELLIPSE"
   ]
  },
  {
   "cell_type": "markdown",
   "id": "a94be13d",
   "metadata": {},
   "source": [
    "The size of the kernel is given by a tuple of two integers, such as (3, 3) or (5, 5). The larger the size, the more effect the morphological operation will have on the image."
   ]
  },
  {
   "cell_type": "markdown",
   "id": "7d36f37d",
   "metadata": {},
   "source": [
    "#### For example, to create a 3x3 rectangular kernel, we can use:\n",
    "\n",
    "**`kernel = cv2.getStructuringElement(cv2.MORPH_RECT, (3, 3))`**\n",
    "This will return a matrix like this:\n",
    "\n",
    "|1 1 1|\n",
    "\n",
    "|1 1 1|\n",
    "\n",
    "|1 1 1|\n"
   ]
  },
  {
   "cell_type": "markdown",
   "id": "2b259c33",
   "metadata": {},
   "source": [
    "#### To create a 3 X 3 cross-shaped kernel, we can use:\n",
    "    \n",
    "**`kernel = cv2.getStructuringElement(cv2.MORPH_CROSS, (5, 5))`**\n",
    "\n",
    "This will return a matrix like this:\n",
    "\n",
    "|0 1 0|\n",
    "\n",
    "|1 1 1|\n",
    "\n",
    "|0 1 0|\n"
   ]
  },
  {
   "cell_type": "markdown",
   "id": "10a2191d",
   "metadata": {},
   "source": [
    "#### To create a 5x5 elliptical kernel, we can use:\n",
    "\n",
    "**`kernel = cv2.getStructuringElement(cv2.MORPH_ELLIPSE, (5, 5))`**\n",
    "\n",
    "\n",
    "This will return a matrix like this:\n",
    "|0 1 0 0 0 |\n",
    "\n",
    "|0 1 1 1 0 |\n",
    "\n",
    "|1 1 1 1 1 |\n",
    "\n",
    "|0 1 1 1 0 |\n",
    "\n",
    "|0 0 1 0 0 |"
   ]
  },
  {
   "cell_type": "markdown",
   "id": "5f207915",
   "metadata": {},
   "source": [
    "Once we have the kernel, we can use it for different morphological operations, such as:\n",
    "\n",
    "1. Erosion: \n",
    "- This operation shrinks the white regions in the image by removing the pixels near the boundaries. It is like eroding the edges of the objects with the kernel. The kernel slides over the image and replaces the pixel at its center with the minimum value of all the pixels under the kernel. This means that if any pixel under the kernel is zero (black), the center pixel will also become zero. Erosion can be used to remove small white noises or detach two connected objects.\n",
    "\n",
    "---\n",
    "\n",
    "2. Dilation: \n",
    "- This operation enlarges the white regions in the image by adding pixels to the boundaries. It is like dilating the edges of the objects with the kernel. The kernel slides over the image and replaces the pixel at its center with the maximum value of all the pixels under the kernel. This means that if any pixel under the kernel is one (white), the center pixel will also become one. Dilation can be used to fill small holes or gaps in an object or join broken parts of an object.\n",
    "\n",
    "---\n",
    "3. Opening: \n",
    "- This operation is a combination of erosion followed by dilation. It is useful for removing small objects or noises from an image while preserving the shape and size of larger objects.\n",
    "\n",
    "---\n",
    "4. Closing: \n",
    "- This operation is a combination of dilation followed by erosion. It is useful for filling small holes or gaps inside an object or joining small cracks or breaks in an object.\n",
    "\n",
    "---\n",
    "5. Gradient: \n",
    "- This operation is the difference between dilation and erosion of an image. It highlights the edges or boundaries of an object in an image.\n",
    "---\n",
    "6. Top hat: \n",
    "- This operation is the difference between an image and its opening. It reveals bright regions on a dark background that are smaller than the kernel.\n",
    "\n",
    "---\n",
    "7. Black hat: \n",
    "- This operation is the difference between an image and its closing. It reveals dark regions on a bright background that are smaller than the kernel.\n",
    "\n",
    "----\n",
    "You can use `cv2.morphologyEx` function to apply these operations to an image using a given kernel.\n",
    "\n",
    "##### For example, to apply opening to an image using a rectangular kernel, we can use:\n",
    "\n",
    "`kernel = cv2.getStructuringElement(cv2.MORPH_RECT, (5,5))`\n",
    "\n",
    "\n",
    "`opening = cv2.morphologyEx(image, cv2.MORPH_OPEN, kernel)`"
   ]
  }
 ],
 "metadata": {
  "kernelspec": {
   "display_name": "Python 3 (ipykernel)",
   "language": "python",
   "name": "python3"
  },
  "language_info": {
   "codemirror_mode": {
    "name": "ipython",
    "version": 3
   },
   "file_extension": ".py",
   "mimetype": "text/x-python",
   "name": "python",
   "nbconvert_exporter": "python",
   "pygments_lexer": "ipython3",
   "version": "3.9.13"
  }
 },
 "nbformat": 4,
 "nbformat_minor": 5
}
