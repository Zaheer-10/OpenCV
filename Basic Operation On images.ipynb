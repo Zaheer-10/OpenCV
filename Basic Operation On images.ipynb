{
 "cells": [
  {
   "cell_type": "markdown",
   "id": "2fe5ea52",
   "metadata": {},
   "source": [
    "# Basic Operation On images"
   ]
  },
  {
   "cell_type": "markdown",
   "id": "28322518",
   "metadata": {},
   "source": [
    "### The operations we are going to do here ae:\n",
    "\n",
    "- Access pixel values and modify them\n",
    "- Access image properties\n",
    "- Set a Region of Interest (ROI)\n",
    "- Split and merge image channels"
   ]
  },
  {
   "cell_type": "markdown",
   "id": "e7adc3e6",
   "metadata": {},
   "source": [
    "### 1. Access pixel values and modify them\n"
   ]
  },
  {
   "cell_type": "markdown",
   "id": "ce58b3fc",
   "metadata": {},
   "source": [
    "- **So there are basically two ways to access a pixel value in an Image and modify them.** \n",
    "- **First let us see how we can access a particular pixel value of an image.**"
   ]
  },
  {
   "cell_type": "code",
   "execution_count": 8,
   "id": "6d728da6",
   "metadata": {},
   "outputs": [
    {
     "data": {
      "text/plain": [
       "array([255, 255, 255], dtype=uint8)"
      ]
     },
     "execution_count": 8,
     "metadata": {},
     "output_type": "execute_result"
    }
   ],
   "source": [
    "import cv2 as cv \n",
    "import numpy as np \n",
    "\n",
    "img = cv.imread('meanshift_basics.jpg' ,1)\n",
    "px = img[100 , 100]\n",
    "\n",
    "px"
   ]
  },
  {
   "cell_type": "markdown",
   "id": "c457e86b",
   "metadata": {},
   "source": [
    "- Now as you can see we got a list containing 3 values.\n",
    "- As we know OpenCV stores the color image as BGR color image,so the first value in the list is the value of the blue channel of this particular pixel, and the rest are values for green and red channels."
   ]
  },
  {
   "cell_type": "markdown",
   "id": "f494498b",
   "metadata": {},
   "source": [
    "#### We can also access only one of the channels as shown below:"
   ]
  },
  {
   "cell_type": "code",
   "execution_count": 11,
   "id": "b52ac76b",
   "metadata": {},
   "outputs": [
    {
     "name": "stdout",
     "output_type": "stream",
     "text": [
      "255\n"
     ]
    }
   ],
   "source": [
    "# accessing only blue pixel\n",
    "blue = img[100,100,0]\n",
    "print( blue )"
   ]
  },
  {
   "cell_type": "markdown",
   "id": "11c4e8af",
   "metadata": {},
   "source": [
    "#### This method to access and modify the pixel values is slow so you should make use of NumPy library as it is  optimized for fast array calculations. \n",
    "- **For accessing individual pixel values, the Numpy array methods, `array.item()` and `array.itemset()` are considered better as  they always return a scalar.**\n",
    "- **However, if you want to access all the `B`,`G`,`R` values, you will need to call `array.item()` separately for each value as shown below:**"
   ]
  },
  {
   "cell_type": "code",
   "execution_count": 16,
   "id": "cb197ae0",
   "metadata": {
    "scrolled": true
   },
   "outputs": [
    {
     "data": {
      "text/plain": [
       "100"
      ]
     },
     "execution_count": 16,
     "metadata": {},
     "output_type": "execute_result"
    }
   ],
   "source": [
    "# accessing RED value\n",
    "img.item(10,10,2)\n",
    "\n",
    "# modifying RED value\n",
    "img.itemset((10,10,2),100)\n",
    "\n",
    "img.item(10,10,2)\n"
   ]
  },
  {
   "cell_type": "markdown",
   "id": "1d761679",
   "metadata": {},
   "source": [
    "## Access Image properties"
   ]
  },
  {
   "cell_type": "markdown",
   "id": "97a35c6b",
   "metadata": {},
   "source": [
    "\n",
    "**What do we mean by image properties here? Often it is important to know the size(total number of pixels in the image), number of rows, columns, and channels.We can access the later three by using the shape() method as shown below:**"
   ]
  },
  {
   "cell_type": "code",
   "execution_count": 21,
   "id": "e24ddf35",
   "metadata": {
    "scrolled": true
   },
   "outputs": [
    {
     "name": "stdout",
     "output_type": "stream",
     "text": [
      "(336, 450, 3)\n"
     ]
    }
   ],
   "source": [
    "print(img.shape)"
   ]
  },
  {
   "cell_type": "markdown",
   "id": "1b192bee",
   "metadata": {},
   "source": [
    "So here we have three numbers in the returned tuple, these are `number of rows`, `number of columns `and `number of channels` respectively. \n",
    "\n",
    "Incase an image is grayscale, the tuple returned contains only the number of rows and columns."
   ]
  },
  {
   "cell_type": "code",
   "execution_count": 22,
   "id": "cf3b15fd",
   "metadata": {
    "scrolled": false
   },
   "outputs": [
    {
     "name": "stdout",
     "output_type": "stream",
     "text": [
      "453600\n"
     ]
    }
   ],
   "source": [
    "print(img.size)"
   ]
  },
  {
   "cell_type": "code",
   "execution_count": 24,
   "id": "9076c74d",
   "metadata": {
    "scrolled": true
   },
   "outputs": [
    {
     "name": "stdout",
     "output_type": "stream",
     "text": [
      "uint8\n"
     ]
    }
   ],
   "source": [
    "print(img.dtype)"
   ]
  },
  {
   "cell_type": "markdown",
   "id": "b849c587",
   "metadata": {},
   "source": [
    "## Image ROI(Region of interest)"
   ]
  },
  {
   "cell_type": "markdown",
   "id": "2e049c30",
   "metadata": {},
   "source": [
    "Often you may come across some images where you are only interested in a specific region. \n",
    "\n",
    "Say you want to detect eyes in an image, will you search the entire image, possibly not as that may not fetch accurate results. \n",
    "\n",
    "But we know that eyes are a part of face, so it is better to detect a face first ,thus here the face is our ROI. \n",
    "\n",
    "You may want to have a look at the article Face detection using Viola-Jones algorithm where we detect the faces and then find eyes in the area we found faces.\n",
    "\n",
    "link : https://www.mygreatlearning.com/blog/viola-jones-algorithm/"
   ]
  },
  {
   "cell_type": "markdown",
   "id": "de0b7096",
   "metadata": {},
   "source": [
    "## OpenCV Resize Image"
   ]
  },
  {
   "cell_type": "markdown",
   "id": "9e0f3c48",
   "metadata": {},
   "source": [
    "\n",
    "Usually when working on images, we often need to resize the images according to certain requirements. \n",
    "\n",
    "Mostly you will do such operation in Machine learning and deep learning as it reduces the time of training of a neural network. \n",
    "\n",
    "As the number of pixels in an image increases, the more is the number of input nodes that in turn increases the complexity of the model. We use an inbuilt `resize()` method to resize an image."
   ]
  },
  {
   "cell_type": "markdown",
   "id": "9f209592",
   "metadata": {},
   "source": [
    "### Syntax:\n",
    "\n",
    "\n",
    "#### cv2.resize(s, size   ,fx,   fy,   interpolation)  \n",
    "\n",
    "### Parameters:\n",
    "\n",
    "s – input image (required).\n",
    "\n",
    "size – desired size for the output image after resizing (required)\n",
    "\n",
    "fx – Scale factor along the horizontal axis.(optional)\n",
    "\n",
    "fy – Scale factor along the vertical axis.\n",
    "\n",
    "Interpolation(optional) – This flag uses following methods:\n",
    "\n",
    "1. Interpolation(optional) – This flag uses following methods:\n",
    "2. INTER_NEAREST – a nearest-neighbor interpolation\n",
    "3. INTER_LINEAR – a bilinear interpolation (used by default) \n",
    "4. INTER_AREA – resampling using pixel area relation. It may be a preferred method for image decimation, as it gives moire’-free results. But when the image is zoomed, it is similar to the INTER_NEAREST method.\n",
    "5. INTER_CUBIC – a bicubic interpolation over 4×4 pixel neighborhood \n",
    "6. INTER_LANCZOS4 – a Lanczos interpolation over 8×8 pixel neighborhood\n"
   ]
  },
  {
   "cell_type": "code",
   "execution_count": 31,
   "id": "94ac1f49",
   "metadata": {},
   "outputs": [
    {
     "name": "stdout",
     "output_type": "stream",
     "text": [
      "(336, 450, 3)\n"
     ]
    }
   ],
   "source": [
    "import cv2\n",
    "import numpy as np\n",
    "\n",
    "#importing the opencv module  \n",
    "import cv2  \n",
    "\n",
    "# using imread('path') and 1 denotes read as  color image  \n",
    "img = cv2.imread('meanshift_basics.jpg' , 1)\n",
    "\n",
    "print(img.shape)\n",
    "\n",
    "img_resized=cv2.resize(img, (780, 540),  interpolation = cv2.INTER_NEAREST) \n",
    "cv2.imshow(\"Resized\",img_resized)\n",
    "cv2.waitKey(0)\n",
    "cv2.destroyAllWindows()"
   ]
  },
  {
   "cell_type": "markdown",
   "id": "21de3677",
   "metadata": {},
   "source": [
    "## OpenCV Image Rotation"
   ]
  },
  {
   "cell_type": "markdown",
   "id": "4423181e",
   "metadata": {},
   "source": [
    "#### We use `cv2.rotate(`) method to rotate a 2D array in multiples of 90 degrees. Here is the syntax:\n",
    "\n",
    "\n",
    "    cv2.rotate( src, rotateCode[, dst] )\n"
   ]
  },
  {
   "cell_type": "markdown",
   "id": "6041bdd5",
   "metadata": {},
   "source": [
    "#### Parameters:\n",
    "1. src: It is the image to be rotated.\n",
    "\n",
    "2. rotateCode: It is an enum to specify how to rotate the array.\n",
    "- Here are some of the possible values :\n",
    "    - cv2.cv2.ROTATE_90_CLOCKWISE\n",
    "   -   cv2.ROTATE_180\n",
    "    - cv2.ROTATE_90_COUNTERCLOCKWISE"
   ]
  },
  {
   "cell_type": "code",
   "execution_count": 38,
   "id": "4d6e6459",
   "metadata": {},
   "outputs": [
    {
     "name": "stdout",
     "output_type": "stream",
     "text": [
      "(336, 450, 3)\n"
     ]
    }
   ],
   "source": [
    "#importing the opencv module  \n",
    "import cv2  \n",
    "\n",
    "# using imread('path') and 1 denotes read as  color image  \n",
    "img = cv2.imread('meanshift_basics.jpg' , 1)\n",
    "\n",
    "print(img.shape)\n",
    "image = cv2.rotate(img, cv2.ROTATE_90_COUNTERCLOCKWISE) \n",
    "cv2.imshow(\"Rotated\",image)\n",
    "cv2.waitKey(0)\n",
    "cv2.destroyAllWindows()"
   ]
  }
 ],
 "metadata": {
  "kernelspec": {
   "display_name": "Python 3 (ipykernel)",
   "language": "python",
   "name": "python3"
  },
  "language_info": {
   "codemirror_mode": {
    "name": "ipython",
    "version": 3
   },
   "file_extension": ".py",
   "mimetype": "text/x-python",
   "name": "python",
   "nbconvert_exporter": "python",
   "pygments_lexer": "ipython3",
   "version": "3.9.13"
  }
 },
 "nbformat": 4,
 "nbformat_minor": 5
}
